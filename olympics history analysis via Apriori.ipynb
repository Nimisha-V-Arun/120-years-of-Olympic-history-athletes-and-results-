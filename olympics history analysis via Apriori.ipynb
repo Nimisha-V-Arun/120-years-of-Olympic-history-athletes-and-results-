{
 "cells": [
  {
   "cell_type": "markdown",
   "metadata": {},
   "source": [
    "## Using Aprioi to analyse the olympics history\n"
   ]
  },
  {
   "cell_type": "code",
   "execution_count": 1,
   "metadata": {},
   "outputs": [
    {
     "name": "stderr",
     "output_type": "stream",
     "text": [
      "/home/nimisha/anaconda3/lib/python3.6/importlib/_bootstrap.py:219: RuntimeWarning: numpy.dtype size changed, may indicate binary incompatibility. Expected 96, got 88\n",
      "  return f(*args, **kwds)\n",
      "/home/nimisha/anaconda3/lib/python3.6/importlib/_bootstrap.py:219: RuntimeWarning: numpy.dtype size changed, may indicate binary incompatibility. Expected 96, got 88\n",
      "  return f(*args, **kwds)\n"
     ]
    }
   ],
   "source": [
    "import pandas as pd\n",
    "import numpy as np\n",
    "import matplotlib.pyplot as plt\n",
    "from mlxtend.preprocessing import TransactionEncoder\n"
   ]
  },
  {
   "cell_type": "code",
   "execution_count": 2,
   "metadata": {
    "scrolled": true
   },
   "outputs": [
    {
     "name": "stdout",
     "output_type": "stream",
     "text": [
      "(271116, 15)\n"
     ]
    },
    {
     "data": {
      "text/html": [
       "<div>\n",
       "<style scoped>\n",
       "    .dataframe tbody tr th:only-of-type {\n",
       "        vertical-align: middle;\n",
       "    }\n",
       "\n",
       "    .dataframe tbody tr th {\n",
       "        vertical-align: top;\n",
       "    }\n",
       "\n",
       "    .dataframe thead th {\n",
       "        text-align: right;\n",
       "    }\n",
       "</style>\n",
       "<table border=\"1\" class=\"dataframe\">\n",
       "  <thead>\n",
       "    <tr style=\"text-align: right;\">\n",
       "      <th></th>\n",
       "      <th>ID</th>\n",
       "      <th>Name</th>\n",
       "      <th>Sex</th>\n",
       "      <th>Age</th>\n",
       "      <th>Height</th>\n",
       "      <th>Weight</th>\n",
       "      <th>Team</th>\n",
       "      <th>NOC</th>\n",
       "      <th>Games</th>\n",
       "      <th>Year</th>\n",
       "      <th>Season</th>\n",
       "      <th>City</th>\n",
       "      <th>Sport</th>\n",
       "      <th>Event</th>\n",
       "      <th>Medal</th>\n",
       "    </tr>\n",
       "  </thead>\n",
       "  <tbody>\n",
       "    <tr>\n",
       "      <th>0</th>\n",
       "      <td>1</td>\n",
       "      <td>A Dijiang</td>\n",
       "      <td>M</td>\n",
       "      <td>24.0</td>\n",
       "      <td>180.0</td>\n",
       "      <td>80.0</td>\n",
       "      <td>China</td>\n",
       "      <td>CHN</td>\n",
       "      <td>1992 Summer</td>\n",
       "      <td>1992</td>\n",
       "      <td>Summer</td>\n",
       "      <td>Barcelona</td>\n",
       "      <td>Basketball</td>\n",
       "      <td>Basketball Men's Basketball</td>\n",
       "      <td>NaN</td>\n",
       "    </tr>\n",
       "  </tbody>\n",
       "</table>\n",
       "</div>"
      ],
      "text/plain": [
       "   ID       Name Sex   Age  Height  Weight   Team  NOC        Games  Year  \\\n",
       "0   1  A Dijiang   M  24.0   180.0    80.0  China  CHN  1992 Summer  1992   \n",
       "\n",
       "   Season       City       Sport                        Event Medal  \n",
       "0  Summer  Barcelona  Basketball  Basketball Men's Basketball   NaN  "
      ]
     },
     "execution_count": 2,
     "metadata": {},
     "output_type": "execute_result"
    }
   ],
   "source": [
    "data = pd.read_csv(\"dataSource/athlete_events.csv\")\n",
    "#data.info()\n",
    "print(data.shape)\n",
    "data.head(1)"
   ]
  },
  {
   "cell_type": "markdown",
   "metadata": {},
   "source": [
    "# Data preprocessing"
   ]
  },
  {
   "cell_type": "code",
   "execution_count": 3,
   "metadata": {},
   "outputs": [
    {
     "name": "stdout",
     "output_type": "stream",
     "text": [
      "(271116, 15)\n",
      "Index(['ID', 'Name', 'Sex', 'Age', 'Height', 'Weight', 'Team', 'NOC', 'Games',\n",
      "       'Year', 'Season', 'City', 'Sport', 'Event', 'Medal'],\n",
      "      dtype='object')\n",
      "ID             0\n",
      "Name           0\n",
      "Sex            0\n",
      "Age         9474\n",
      "Height     60171\n",
      "Weight     62875\n",
      "Team           0\n",
      "NOC            0\n",
      "Games          0\n",
      "Year           0\n",
      "Season         0\n",
      "City           0\n",
      "Sport          0\n",
      "Event          0\n",
      "Medal     231333\n",
      "dtype: int64\n"
     ]
    }
   ],
   "source": [
    "print(data.shape)\n",
    "print(data.columns)\n",
    "print(data.isna().sum())"
   ]
  },
  {
   "cell_type": "markdown",
   "metadata": {},
   "source": [
    "## The data has 9474 null values in Age , hence will be substituting with the mode"
   ]
  },
  {
   "cell_type": "code",
   "execution_count": 4,
   "metadata": {},
   "outputs": [
    {
     "name": "stdout",
     "output_type": "stream",
     "text": [
      "Age Mode 23\n"
     ]
    },
    {
     "data": {
      "text/plain": [
       "0"
      ]
     },
     "execution_count": 4,
     "metadata": {},
     "output_type": "execute_result"
    }
   ],
   "source": [
    "AgeMode = int(data['Age'].mode()[0])\n",
    "print('Age Mode', AgeMode)\n",
    "data['Age'] = data['Age'].fillna(AgeMode)\n",
    "data['Age'].isna().sum()"
   ]
  },
  {
   "cell_type": "markdown",
   "metadata": {},
   "source": [
    "## 22% of the Height and 23% of the Weight column is having NaN values\n",
    "## The NaN values are substitued with mode"
   ]
  },
  {
   "cell_type": "code",
   "execution_count": 5,
   "metadata": {},
   "outputs": [
    {
     "name": "stdout",
     "output_type": "stream",
     "text": [
      "Height Mode 180.0\n"
     ]
    },
    {
     "data": {
      "text/plain": [
       "0"
      ]
     },
     "execution_count": 5,
     "metadata": {},
     "output_type": "execute_result"
    }
   ],
   "source": [
    "HeightMode = data['Height'].mode()[0] ## 0 -> the column wise mode \n",
    "print('Height Mode',HeightMode)\n",
    "data['Height'] = data['Height'].fillna(HeightMode)\n",
    "data['Height'].isna().sum()"
   ]
  },
  {
   "cell_type": "code",
   "execution_count": 6,
   "metadata": {},
   "outputs": [
    {
     "name": "stdout",
     "output_type": "stream",
     "text": [
      "Weight Mode 70.0\n"
     ]
    },
    {
     "data": {
      "text/plain": [
       "0"
      ]
     },
     "execution_count": 6,
     "metadata": {},
     "output_type": "execute_result"
    }
   ],
   "source": [
    "WeightMode = data['Weight'].mode()[0]\n",
    "print('Weight Mode',WeightMode)\n",
    "data['Weight'] = data['Weight'].fillna(WeightMode)\n",
    "data['Weight'].isna().sum()"
   ]
  },
  {
   "cell_type": "markdown",
   "metadata": {},
   "source": [
    "## The Medal column has NaN values if no medal is won , we Substitute the NaN values with a string 'None'"
   ]
  },
  {
   "cell_type": "code",
   "execution_count": 7,
   "metadata": {},
   "outputs": [
    {
     "data": {
      "text/plain": [
       "0"
      ]
     },
     "execution_count": 7,
     "metadata": {},
     "output_type": "execute_result"
    }
   ],
   "source": [
    "data['Medal'] = data['Medal'].fillna('None')\n",
    "data['Medal'].isna().sum()"
   ]
  },
  {
   "cell_type": "markdown",
   "metadata": {},
   "source": [
    "## After Removing the NaN values"
   ]
  },
  {
   "cell_type": "code",
   "execution_count": 8,
   "metadata": {},
   "outputs": [
    {
     "data": {
      "text/plain": [
       "ID        0\n",
       "Name      0\n",
       "Sex       0\n",
       "Age       0\n",
       "Height    0\n",
       "Weight    0\n",
       "Team      0\n",
       "NOC       0\n",
       "Games     0\n",
       "Year      0\n",
       "Season    0\n",
       "City      0\n",
       "Sport     0\n",
       "Event     0\n",
       "Medal     0\n",
       "dtype: int64"
      ]
     },
     "execution_count": 8,
     "metadata": {},
     "output_type": "execute_result"
    }
   ],
   "source": [
    "data.isna().sum()"
   ]
  },
  {
   "cell_type": "markdown",
   "metadata": {},
   "source": [
    "## We want to find the frequent itemsets for the following columns\n",
    "###    ['Sex','Age', 'Height','Weight','Team','Medal']"
   ]
  },
  {
   "cell_type": "code",
   "execution_count": 9,
   "metadata": {},
   "outputs": [],
   "source": [
    "\n",
    "# TO group a range of values together\n",
    "def convertDataToRange(data,col,span):\n",
    "    column = []\n",
    "    for index,rows in data.iterrows():\n",
    "        i = data.loc[index,col]\n",
    "        temp = int(i/span)*span\n",
    "        val = '(',col,':',str(temp),'-',str(temp+span),')'\n",
    "        \n",
    "        column.append(\"\".join(val))\n",
    "        #print(i,temp,val)\n",
    "    return column       \n"
   ]
  },
  {
   "cell_type": "code",
   "execution_count": 10,
   "metadata": {},
   "outputs": [],
   "source": [
    "def makeSelectiveSportDataset(fromData,sport,colList):\n",
    "    toData = fromData[fromData['Sport'] == sport]\n",
    "    toData =toData[colList]\n",
    "    #to.head(5)\n",
    "    med = ['Gold','Silver','Bronze']\n",
    "    toData = toData[toData.Medal.isin(med)]\n",
    "    return(toData)\n"
   ]
  },
  {
   "cell_type": "code",
   "execution_count": 11,
   "metadata": {},
   "outputs": [],
   "source": [
    "def convertDataForApriori(data):\n",
    "    data['Height']  = convertDataToRange(data,'Height',10)\n",
    "\n",
    "    data['Weight']  = convertDataToRange(data,'Weight',10)\n",
    "\n",
    "    data['Age']  = convertDataToRange(data,'Age',10)\n",
    "    return data"
   ]
  },
  {
   "cell_type": "code",
   "execution_count": 12,
   "metadata": {},
   "outputs": [],
   "source": [
    "def applyApriori(dataset,support):\n",
    "    rec = dataset.values.tolist()\n",
    "    # Finding Frequent Item Sets\n",
    "\n",
    "    te = TransactionEncoder()\n",
    "    te_ary = te.fit(rec).transform(rec)\n",
    "    df = pd.DataFrame(te_ary, columns=te.columns_)\n",
    "    \n",
    "    # Applying Aprioi Algo\n",
    "    from mlxtend.frequent_patterns import apriori\n",
    "    \n",
    "    freq_Itemsets =  apriori(df,min_support = support, use_colnames = True)\n",
    "    freq_Itemsets['length'] = freq_Itemsets['itemsets'].apply(lambda x:len(x))\n",
    "    return(freq_Itemsets[freq_Itemsets['length'] > 1])"
   ]
  },
  {
   "cell_type": "markdown",
   "metadata": {},
   "source": [
    "# Finding Frequent ItemSets on different Sports"
   ]
  },
  {
   "cell_type": "markdown",
   "metadata": {},
   "source": [
    "# Atheletics"
   ]
  },
  {
   "cell_type": "code",
   "execution_count": 13,
   "metadata": {},
   "outputs": [
    {
     "name": "stdout",
     "output_type": "stream",
     "text": [
      "Athletics Data\n",
      "   support          itemsets  length\n",
      "2  0.56639  ((Age:20-30), M)       2\n"
     ]
    }
   ],
   "source": [
    "Athletics = makeSelectiveSportDataset(data,'Athletics',['Sex','Age', 'Height','Weight','Team','Medal'])\n",
    "\n",
    "Athletics= convertDataForApriori(Athletics)\n",
    "\n",
    "freq_Itemsets_Athletics = applyApriori(Athletics,0.4)\n",
    "print(\"Athletics Data\")\n",
    "print(freq_Itemsets_Athletics)"
   ]
  },
  {
   "cell_type": "markdown",
   "metadata": {},
   "source": [
    "### Result:\n",
    "     1. Age group between 20-30 is common.\n",
    "     2. Height and Weight does not matter.\n",
    "     3. Men have a higher chance of winning"
   ]
  },
  {
   "cell_type": "markdown",
   "metadata": {},
   "source": [
    "# Archery"
   ]
  },
  {
   "cell_type": "code",
   "execution_count": 14,
   "metadata": {},
   "outputs": [
    {
     "name": "stdout",
     "output_type": "stream",
     "text": [
      "Archery Data\n",
      "    support                               itemsets  length\n",
      "4  0.470255     ((Height:180-190), (Weight:70-80))       2\n",
      "5  0.509915                  ((Height:180-190), M)       2\n",
      "6  0.487252                    ((Weight:70-80), M)       2\n",
      "7  0.413598  ((Height:180-190), (Weight:70-80), M)       3\n"
     ]
    }
   ],
   "source": [
    "Archery = makeSelectiveSportDataset(data,'Archery',['Sex','Age', 'Height','Weight','Team','Medal'])\n",
    "Archery= convertDataForApriori(Archery)\n",
    "freq_Itemsets_Archery = applyApriori(Archery,0.4)\n",
    "print(\"Archery Data\")\n",
    "\n",
    "print(freq_Itemsets_Archery)"
   ]
  },
  {
   "cell_type": "markdown",
   "metadata": {},
   "source": [
    "### Result:\n",
    "     1. Age distribution is even.\n",
    "     2. Height and Weight ((Height:180-190), (Weight:70-80)) is found to be common .\n"
   ]
  },
  {
   "cell_type": "markdown",
   "metadata": {},
   "source": [
    "# Basket Ball"
   ]
  },
  {
   "cell_type": "code",
   "execution_count": 15,
   "metadata": {},
   "outputs": [
    {
     "name": "stdout",
     "output_type": "stream",
     "text": [
      "Basket Ball Data\n"
     ]
    },
    {
     "data": {
      "text/html": [
       "<div>\n",
       "<style scoped>\n",
       "    .dataframe tbody tr th:only-of-type {\n",
       "        vertical-align: middle;\n",
       "    }\n",
       "\n",
       "    .dataframe tbody tr th {\n",
       "        vertical-align: top;\n",
       "    }\n",
       "\n",
       "    .dataframe thead th {\n",
       "        text-align: right;\n",
       "    }\n",
       "</style>\n",
       "<table border=\"1\" class=\"dataframe\">\n",
       "  <thead>\n",
       "    <tr style=\"text-align: right;\">\n",
       "      <th></th>\n",
       "      <th>support</th>\n",
       "      <th>itemsets</th>\n",
       "      <th>length</th>\n",
       "    </tr>\n",
       "  </thead>\n",
       "  <tbody>\n",
       "    <tr>\n",
       "      <th>2</th>\n",
       "      <td>0.535185</td>\n",
       "      <td>((Age:20-30), M)</td>\n",
       "      <td>2</td>\n",
       "    </tr>\n",
       "  </tbody>\n",
       "</table>\n",
       "</div>"
      ],
      "text/plain": [
       "    support          itemsets  length\n",
       "2  0.535185  ((Age:20-30), M)       2"
      ]
     },
     "execution_count": 15,
     "metadata": {},
     "output_type": "execute_result"
    }
   ],
   "source": [
    "BasketBall = makeSelectiveSportDataset(data,'Basketball',['Sex','Age', 'Height','Weight','Team','Medal'])\n",
    "\n",
    "BasketBall= convertDataForApriori(BasketBall)\n",
    "\n",
    "freq_Itemsets_BasketBall =  applyApriori(BasketBall,0.4)\n",
    "print(\"Basket Ball Data\")\n",
    "\n",
    "freq_Itemsets_BasketBall"
   ]
  },
  {
   "cell_type": "markdown",
   "metadata": {},
   "source": [
    "### Result:\n",
    "     1. Age group between 20-30 is common.\n",
    "     2. Height and Weight does not matter.\n"
   ]
  },
  {
   "cell_type": "markdown",
   "metadata": {},
   "source": [
    "# Boxing"
   ]
  },
  {
   "cell_type": "code",
   "execution_count": 16,
   "metadata": {},
   "outputs": [
    {
     "name": "stdout",
     "output_type": "stream",
     "text": [
      "Boxing Data\n"
     ]
    },
    {
     "data": {
      "text/html": [
       "<div>\n",
       "<style scoped>\n",
       "    .dataframe tbody tr th:only-of-type {\n",
       "        vertical-align: middle;\n",
       "    }\n",
       "\n",
       "    .dataframe tbody tr th {\n",
       "        vertical-align: top;\n",
       "    }\n",
       "\n",
       "    .dataframe thead th {\n",
       "        text-align: right;\n",
       "    }\n",
       "</style>\n",
       "<table border=\"1\" class=\"dataframe\">\n",
       "  <thead>\n",
       "    <tr style=\"text-align: right;\">\n",
       "      <th></th>\n",
       "      <th>support</th>\n",
       "      <th>itemsets</th>\n",
       "      <th>length</th>\n",
       "    </tr>\n",
       "  </thead>\n",
       "  <tbody>\n",
       "    <tr>\n",
       "      <th>4</th>\n",
       "      <td>0.811441</td>\n",
       "      <td>((Age:20-30), M)</td>\n",
       "      <td>2</td>\n",
       "    </tr>\n",
       "    <tr>\n",
       "      <th>5</th>\n",
       "      <td>0.408898</td>\n",
       "      <td>((Height:180-190), M)</td>\n",
       "      <td>2</td>\n",
       "    </tr>\n",
       "    <tr>\n",
       "      <th>6</th>\n",
       "      <td>0.454449</td>\n",
       "      <td>(Bronze, M)</td>\n",
       "      <td>2</td>\n",
       "    </tr>\n",
       "  </tbody>\n",
       "</table>\n",
       "</div>"
      ],
      "text/plain": [
       "    support               itemsets  length\n",
       "4  0.811441       ((Age:20-30), M)       2\n",
       "5  0.408898  ((Height:180-190), M)       2\n",
       "6  0.454449            (Bronze, M)       2"
      ]
     },
     "execution_count": 16,
     "metadata": {},
     "output_type": "execute_result"
    }
   ],
   "source": [
    "Boxing = makeSelectiveSportDataset(data,'Boxing',['Sex','Age', 'Height','Weight','Team','Medal'])\n",
    "Boxing= convertDataForApriori(Boxing)\n",
    "\n",
    "freq_Itemsets_Boxing = applyApriori(Boxing,0.4)\n",
    "print(\"Boxing Data\")\n",
    "freq_Itemsets_Boxing"
   ]
  },
  {
   "cell_type": "markdown",
   "metadata": {},
   "source": [
    "### Result:\n",
    "     1. Age group between 20-30 is common.\n",
    "     2. Height ranging between ((Height:180-190)) is found to be common .\n"
   ]
  },
  {
   "cell_type": "markdown",
   "metadata": {},
   "source": [
    "# Cycling"
   ]
  },
  {
   "cell_type": "code",
   "execution_count": 17,
   "metadata": {},
   "outputs": [
    {
     "name": "stdout",
     "output_type": "stream",
     "text": [
      "Cycling Data\n",
      "     support                               itemsets  length\n",
      "4   0.492478        ((Height:180-190), (Age:20-30))       2\n",
      "5   0.536025          ((Weight:70-80), (Age:20-30))       2\n",
      "6   0.704671                       ((Age:20-30), M)       2\n",
      "7   0.471101     ((Height:180-190), (Weight:70-80))       2\n",
      "8   0.601742                  ((Height:180-190), M)       2\n",
      "9   0.619161                    ((Weight:70-80), M)       2\n",
      "10  0.488519     ((Height:180-190), (Age:20-30), M)       3\n",
      "11  0.515439       ((Weight:70-80), (Age:20-30), M)       3\n",
      "12  0.468725  ((Height:180-190), (Weight:70-80), M)       3\n"
     ]
    }
   ],
   "source": [
    "Cycling = makeSelectiveSportDataset(data,'Cycling',['Sex','Age', 'Height','Weight','Team','Medal'])\n",
    "\n",
    "Cycling= convertDataForApriori(Cycling)\n",
    "Cycling.head()\n",
    "\n",
    "freq_Itemsets_Cycling = applyApriori(Cycling,0.4)\n",
    "print(\"Cycling Data\")\n",
    "\n",
    "print(freq_Itemsets_Cycling)"
   ]
  },
  {
   "cell_type": "markdown",
   "metadata": {},
   "source": [
    "### Result:\n",
    "     1. Age group between 20-30 is common.\n",
    "     2. Age-Height-Weight ranging between (Age:20-30),(Height:180-190), (Weight:70-80)) is found to be doing well .\n",
    "    "
   ]
  },
  {
   "cell_type": "markdown",
   "metadata": {},
   "source": [
    "# Diving "
   ]
  },
  {
   "cell_type": "code",
   "execution_count": 18,
   "metadata": {},
   "outputs": [
    {
     "name": "stdout",
     "output_type": "stream",
     "text": [
      "Diving Data\n"
     ]
    },
    {
     "data": {
      "text/html": [
       "<div>\n",
       "<style scoped>\n",
       "    .dataframe tbody tr th:only-of-type {\n",
       "        vertical-align: middle;\n",
       "    }\n",
       "\n",
       "    .dataframe tbody tr th {\n",
       "        vertical-align: top;\n",
       "    }\n",
       "\n",
       "    .dataframe thead th {\n",
       "        text-align: right;\n",
       "    }\n",
       "</style>\n",
       "<table border=\"1\" class=\"dataframe\">\n",
       "  <thead>\n",
       "    <tr style=\"text-align: right;\">\n",
       "      <th></th>\n",
       "      <th>support</th>\n",
       "      <th>itemsets</th>\n",
       "      <th>length</th>\n",
       "    </tr>\n",
       "  </thead>\n",
       "  <tbody>\n",
       "    <tr>\n",
       "      <th>3</th>\n",
       "      <td>0.40281</td>\n",
       "      <td>((Age:20-30), M)</td>\n",
       "      <td>2</td>\n",
       "    </tr>\n",
       "  </tbody>\n",
       "</table>\n",
       "</div>"
      ],
      "text/plain": [
       "   support          itemsets  length\n",
       "3  0.40281  ((Age:20-30), M)       2"
      ]
     },
     "execution_count": 18,
     "metadata": {},
     "output_type": "execute_result"
    }
   ],
   "source": [
    "Diving = makeSelectiveSportDataset(data,'Diving',['Sex','Age', 'Height','Weight','Team','Medal'])\n",
    "Diving= convertDataForApriori(Diving)\n",
    "Diving.head()\n",
    "\n",
    "freq_Itemsets_Diving = applyApriori(Diving,0.4)\n",
    "print(\"Diving Data\")\n",
    "\n",
    "freq_Itemsets_Diving"
   ]
  },
  {
   "cell_type": "markdown",
   "metadata": {},
   "source": [
    "### Result:\n",
    "     1. Age group between 20-30 is common.\n",
    "     2. Height and Weight does not matter.\n"
   ]
  },
  {
   "cell_type": "markdown",
   "metadata": {},
   "source": [
    "# Football"
   ]
  },
  {
   "cell_type": "code",
   "execution_count": 19,
   "metadata": {},
   "outputs": [
    {
     "name": "stdout",
     "output_type": "stream",
     "text": [
      "Footbal Data\n",
      "     support                               itemsets  length\n",
      "4   0.534691          ((Weight:70-80), (Age:20-30))       2\n",
      "5   0.682368                       ((Age:20-30), M)       2\n",
      "6   0.417568     ((Height:180-190), (Weight:70-80))       2\n",
      "7   0.473584                  ((Height:180-190), M)       2\n",
      "8   0.616805                    ((Weight:70-80), M)       2\n",
      "9   0.518778       ((Weight:70-80), (Age:20-30), M)       3\n",
      "10  0.414386  ((Height:180-190), (Weight:70-80), M)       3\n"
     ]
    }
   ],
   "source": [
    "Football = makeSelectiveSportDataset(data,'Football',['Sex','Age', 'Height','Weight','Team','Medal'])\n",
    "Football= convertDataForApriori(Football)\n",
    "Football.head()\n",
    "\n",
    "freq_Itemsets_Football = applyApriori(Football,0.4)\n",
    "print(\"Footbal Data\")\n",
    "print(freq_Itemsets_Football)"
   ]
  },
  {
   "cell_type": "markdown",
   "metadata": {},
   "source": [
    "### Result:\n",
    "     1. Age group between 20-30 has a high support, hence greater chance of winning a medal.\n",
    "     2. Age-Height-Weight ranging between (Age:20-30),(Height:180-190), (Weight:70-80)) is found to be doing well .\n",
    "    "
   ]
  },
  {
   "cell_type": "markdown",
   "metadata": {},
   "source": [
    "# Gymnastics"
   ]
  },
  {
   "cell_type": "code",
   "execution_count": 20,
   "metadata": {},
   "outputs": [
    {
     "name": "stdout",
     "output_type": "stream",
     "text": [
      "Gymnastics Data\n",
      "    support                            itemsets  length\n",
      "4  0.545656                    ((Age:20-30), M)       2\n",
      "5  0.466755  ((Weight:70-80), (Height:180-190))       2\n",
      "6  0.436170                 ((Weight:70-80), M)       2\n"
     ]
    }
   ],
   "source": [
    "Gymnastics = makeSelectiveSportDataset(data,'Gymnastics',['Sex','Age', 'Height','Weight','Team','Medal'])\n",
    "\n",
    "Gymnastics= convertDataForApriori(Gymnastics)\n",
    "\n",
    "freq_Itemsets_Gymnastics = applyApriori(Gymnastics,0.4)\n",
    "print(\"Gymnastics Data\")\n",
    "\n",
    "print(freq_Itemsets_Gymnastics)"
   ]
  },
  {
   "cell_type": "markdown",
   "metadata": {},
   "source": [
    "### Result:\n",
    "     1. Age group between 20-30 is common.\n",
    "     2. Height and Weight ((Height:180-190), (Weight:70-80)) is found to be common .\n"
   ]
  },
  {
   "cell_type": "markdown",
   "metadata": {},
   "source": [
    "# Handball"
   ]
  },
  {
   "cell_type": "code",
   "execution_count": 21,
   "metadata": {},
   "outputs": [
    {
     "name": "stdout",
     "output_type": "stream",
     "text": [
      "HandBall Data\n",
      "    support          itemsets  length\n",
      "3  0.406604  ((Age:20-30), M)       2\n"
     ]
    }
   ],
   "source": [
    "Handball = makeSelectiveSportDataset(data,'Handball',['Sex','Age', 'Height','Weight','Team','Medal'])\n",
    "Handball= convertDataForApriori(Handball)\n",
    "\n",
    "freq_Itemsets_Handball = applyApriori(Handball,0.4)\n",
    "print(\"HandBall Data\")\n",
    "\n",
    "print(freq_Itemsets_Handball)"
   ]
  },
  {
   "cell_type": "markdown",
   "metadata": {},
   "source": [
    "### Result:\n",
    "     1. Age group between 20-30 is common.\n",
    "     2. Height and Weight does not matter.\n"
   ]
  },
  {
   "cell_type": "markdown",
   "metadata": {},
   "source": [
    "# Judo"
   ]
  },
  {
   "cell_type": "code",
   "execution_count": 22,
   "metadata": {},
   "outputs": [
    {
     "name": "stdout",
     "output_type": "stream",
     "text": [
      "Judo Data\n",
      "    support               itemsets  length\n",
      "3  0.425960  (Bronze, (Age:20-30))       2\n",
      "4  0.563071       ((Age:20-30), M)       2\n"
     ]
    }
   ],
   "source": [
    "Judo = makeSelectiveSportDataset(data,'Judo',['Sex','Age', 'Height','Weight','Team','Medal'])\n",
    "Judo= convertDataForApriori(Judo)\n",
    "\n",
    "freq_Itemsets_Judo = applyApriori(Judo,0.4)\n",
    "print(\"Judo Data\")\n",
    "print(freq_Itemsets_Judo)"
   ]
  },
  {
   "cell_type": "markdown",
   "metadata": {},
   "source": [
    "### Result:\n",
    "     1. Age group between 20-30 is common and have won many bronze medals\n",
    "     2. Height and Weight does not matter.\n"
   ]
  },
  {
   "cell_type": "markdown",
   "metadata": {},
   "source": [
    "# Speed Skating"
   ]
  },
  {
   "cell_type": "code",
   "execution_count": 23,
   "metadata": {},
   "outputs": [
    {
     "name": "stdout",
     "output_type": "stream",
     "text": [
      "Speed Skating Data\n",
      "    support               itemsets  length\n",
      "5  0.486207       ((Age:20-30), M)       2\n",
      "6  0.403448  ((Height:180-190), M)       2\n"
     ]
    }
   ],
   "source": [
    "SpeedSkt = makeSelectiveSportDataset(data,'Speed Skating',['Sex','Age', 'Height','Weight','Team','Medal'])\n",
    "SpeedSkt= convertDataForApriori(SpeedSkt)\n",
    "SpeedSkt.head()\n",
    "\n",
    "freq_Itemsets_SpeedSkt = applyApriori(SpeedSkt,0.4)\n",
    "print(\"Speed Skating Data\")\n",
    "\n",
    "print(freq_Itemsets_SpeedSkt)"
   ]
  },
  {
   "cell_type": "markdown",
   "metadata": {},
   "source": [
    "### Result:\n",
    "     1. Age group between 20-30 is common.\n",
    "     2. Height ranging between ((Height:180-190)) is common\t\n"
   ]
  },
  {
   "cell_type": "markdown",
   "metadata": {},
   "source": [
    "# $$ $$\n",
    "\n",
    "# Conclusion\n",
    "\n",
    "## I have applied the Apriori algorithm on a few selective sports  to  find out what are common traits (Winning DNA) among the medal winnners.\n",
    "### The sports list:\n",
    "    1. Athletics\n",
    "    2. Archery\n",
    "    3. Basket ball\n",
    "    4. Boxing\n",
    "    5. Cycling\n",
    "    6. Diving\n",
    "    7. Football\n",
    "    8. Gymnastics\n",
    "    9. Handball\n",
    "    10. Judo\n",
    "    11. Speed Skating\n",
    "    \n",
    "   ### In general, Age ranging between (20-30),the height ranging between (180-190)cms and the weight ranging between (70-80)kg was found common among most of these sports. The respective results have been written below the code."
   ]
  },
  {
   "cell_type": "code",
   "execution_count": null,
   "metadata": {},
   "outputs": [],
   "source": []
  },
  {
   "cell_type": "code",
   "execution_count": 24,
   "metadata": {},
   "outputs": [
    {
     "data": {
      "text/plain": [
       "\"\\nmed = ['Gold','Silver','Bronze']\\nmedalC1 = data[data.Medal.isin(med)]\\nmedalC = medalC1.groupby(['Team']).count()\\nmedalC.reset_index(drop = False,inplace = True)\\nmedalC = medalC[['Team','Medal']]\\n\\n#medalC = medalC.reset_index(drop=False)\\nmedalCount = medalC[['Team','Medal']]\\nmedalCount.sort_values('Team',inplace = True)\\nmedalCount.head()\\n\""
      ]
     },
     "execution_count": 24,
     "metadata": {},
     "output_type": "execute_result"
    }
   ],
   "source": [
    "'''\n",
    "med = ['Gold','Silver','Bronze']\n",
    "medalC1 = data[data.Medal.isin(med)]\n",
    "medalC = medalC1.groupby(['Team']).count()\n",
    "medalC.reset_index(drop = False,inplace = True)\n",
    "medalC = medalC[['Team','Medal']]\n",
    "\n",
    "#medalC = medalC.reset_index(drop=False)\n",
    "medalCount = medalC[['Team','Medal']]\n",
    "medalCount.sort_values('Team',inplace = True)\n",
    "medalCount.head()\n",
    "'''"
   ]
  }
 ],
 "metadata": {
  "kernelspec": {
   "display_name": "Python 3",
   "language": "python",
   "name": "python3"
  },
  "language_info": {
   "codemirror_mode": {
    "name": "ipython",
    "version": 3
   },
   "file_extension": ".py",
   "mimetype": "text/x-python",
   "name": "python",
   "nbconvert_exporter": "python",
   "pygments_lexer": "ipython3",
   "version": "3.6.5"
  }
 },
 "nbformat": 4,
 "nbformat_minor": 2
}
